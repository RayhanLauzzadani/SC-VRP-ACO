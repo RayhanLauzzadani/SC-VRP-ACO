{
  "nbformat": 4,
  "nbformat_minor": 0,
  "metadata": {
    "colab": {
      "provenance": [],
      "toc_visible": true,
      "include_colab_link": true
    },
    "kernelspec": {
      "name": "python3",
      "display_name": "Python 3"
    },
    "language_info": {
      "name": "python"
    }
  },
  "cells": [
    {
      "cell_type": "markdown",
      "metadata": {
        "id": "view-in-github",
        "colab_type": "text"
      },
      "source": [
        "<a href=\"https://colab.research.google.com/github/RayhanLauzzadani/SC-VRP-ACO/blob/main/FP_SC_ACO.ipynb\" target=\"_parent\"><img src=\"https://colab.research.google.com/assets/colab-badge.svg\" alt=\"Open In Colab\"/></a>"
      ]
    },
    {
      "cell_type": "markdown",
      "source": [
        "#Kelompok 11\n",
        "**Nama Anggota Kelompok**\n",
        "\n",
        "1. Athaalla Rayya Genaro I - 5026221116\n",
        "2. Raihan Fareliansyah - 5026221160\n",
        "3. Rayhan Lauzzadani - 5026221186\n",
        "\n",
        "#Topics\n",
        "Optimasi Rute Inspeksi Kebersihan Taman Di Surabaya (Inspektur : Dinas Lingkungan Hidup)"
      ],
      "metadata": {
        "id": "Pq2Nz0MKWEp5"
      }
    },
    {
      "cell_type": "markdown",
      "source": [
        "# **Install Library**"
      ],
      "metadata": {
        "id": "op-cFlTQCicE"
      }
    },
    {
      "cell_type": "code",
      "source": [
        "import pandas as pd\n",
        "import numpy as np\n",
        "import matplotlib.pyplot as plt\n",
        "import folium\n",
        "from folium.plugins import PolyLineTextPath\n",
        "from geopy.distance import geodesic\n",
        "import random\n",
        "from sklearn.cluster import KMeans\n",
        "from tabulate import tabulate\n",
        "# np.random.seed(30)\n",
        "# random.seed(30)"
      ],
      "metadata": {
        "id": "zn-P647TCp-r"
      },
      "execution_count": null,
      "outputs": []
    },
    {
      "cell_type": "code",
      "source": [
        "# IMPORTANT: RUN THIS CELL IN ORDER TO IMPORT YOUR KAGGLE DATA SOURCES,\n",
        "# THEN FEEL FREE TO DELETE THIS CELL.\n",
        "# NOTE: THIS NOTEBOOK ENVIRONMENT DIFFERS FROM KAGGLE'S PYTHON\n",
        "# ENVIRONMENT SO THERE MAY BE MISSING LIBRARIES USED BY YOUR=\n",
        "# NOTEBOOK.\n",
        "\n",
        "!pip install -q kagglehub\n",
        "!pip install tabulate\n",
        "\n",
        "import kagglehub\n",
        "rayhanlauzzadani_datasetfp_path = kagglehub.dataset_download('rayhanlauzzadani/datasetsc-fp')\n",
        "print(f\" Dataset downloaded to: {rayhanlauzzadani_datasetfp_path}\")"
      ],
      "metadata": {
        "colab": {
          "base_uri": "https://localhost:8080/"
        },
        "id": "Jngm6gkKRV47",
        "outputId": "d788dd16-ced8-464e-bee4-390020bb6543"
      },
      "execution_count": null,
      "outputs": [
        {
          "output_type": "stream",
          "name": "stdout",
          "text": [
            "Requirement already satisfied: tabulate in /usr/local/lib/python3.11/dist-packages (0.9.0)\n",
            " Dataset downloaded to: /kaggle/input/datasetsc-fp\n"
          ]
        }
      ]
    },
    {
      "cell_type": "markdown",
      "source": [
        "# **Load Dataset**"
      ],
      "metadata": {
        "id": "947jRTBoCsbM"
      }
    },
    {
      "cell_type": "code",
      "source": [
        "# Ganti path ke file baru\n",
        "df = pd.read_csv(f\"{rayhanlauzzadani_datasetfp_path}/dataset_taman_surabaya_fixed.csv\")\n",
        "\n",
        "# Ambil koordinat dari baris yang mengandung \"Dinas Lingkungan Hidup\"\n",
        "dlh_row = df[df['Nama Taman'].str.contains(\"Dinas Lingkungan Hidup\", case=False, na=False)].iloc[0]\n",
        "dlh_coord = (dlh_row['Latitude'], dlh_row['Longitude'])\n",
        "\n",
        "# Tampilkan dataframe\n",
        "print(tabulate(df, headers='keys', tablefmt='psql'))"
      ],
      "metadata": {
        "colab": {
          "base_uri": "https://localhost:8080/"
        },
        "id": "rHUZdTP3CvvM",
        "outputId": "922edabf-0c9a-4381-ee9a-0abeb18af87a"
      },
      "execution_count": null,
      "outputs": [
        {
          "output_type": "stream",
          "name": "stdout",
          "text": [
            "+----+-------------------------------------------+------------+-------------+----------------+\n",
            "|    | Nama Taman                                |   Latitude |   Longitude | Kategori       |\n",
            "|----+-------------------------------------------+------------+-------------+----------------|\n",
            "|  0 | Kantor Dinas Lingkungan Hidup             |   -7.27839 |     112.763 | pemerintah     |\n",
            "|  1 | Taman. Lansia                             |   -7.271   |     112.75  | pemerintah     |\n",
            "|  2 | Taman Flora                               |   -7.29427 |     112.762 | pemerintah     |\n",
            "|  3 | Taman. Persahabatan                       |   -7.27673 |     112.746 | pemerintah     |\n",
            "|  4 | Taman BMX Ketabang                        |   -7.26368 |     112.75  | pemerintah     |\n",
            "|  5 | Taman Keputran                            |   -7.27319 |     112.744 | pemerintah     |\n",
            "|  6 | Taman Ngagel                              |   -7.28844 |     112.745 | pemerintah     |\n",
            "|  7 | Taman AIS Nasution                        |   -7.26825 |     112.744 | pemerintah     |\n",
            "|  8 | Taman Teratai                             |   -7.25505 |     112.756 | pemerintah     |\n",
            "|  9 | Taman Paliatif (Taman Soka)               |   -7.25545 |     112.754 | pemerintah     |\n",
            "| 10 | Taman Apsari                              |   -7.26374 |     112.743 | pemerintah     |\n",
            "| 11 | Taman Prestasi                            |   -7.26138 |     112.743 | pemerintah     |\n",
            "| 12 | Taman Bungkul                             |   -7.29132 |     112.74  | pemerintah     |\n",
            "| 13 | Taman 10 Nopember                         |   -7.25164 |     112.755 | pemerintah     |\n",
            "| 14 | Taman Lumumba                             |   -7.29776 |     112.742 | pemerintah     |\n",
            "| 15 | Taman Ekspresi                            |   -7.25719 |     112.744 | pemerintah     |\n",
            "| 16 | Taman Nginden Intan                       |   -7.30681 |     112.769 | pemerintah     |\n",
            "| 17 | Taman Buah Undaan                         |   -7.25526 |     112.743 | pemerintah     |\n",
            "| 18 | Taman Lesti                               |   -7.29088 |     112.73  | pemerintah     |\n",
            "| 19 | Taman. Ronggolawe                         |   -7.29968 |     112.731 | pemerintah     |\n",
            "| 20 | Taman Mayangkara                          |   -7.30691 |     112.736 | pemerintah     |\n",
            "| 21 | Taman Kebun Bibit Wonorejo                |   -7.31251 |     112.789 | pemerintah     |\n",
            "| 22 | Taman Harmoni                             |   -7.29517 |     112.804 | pemerintah     |\n",
            "| 23 | Taman PUPR                                |   -7.29823 |     112.803 | pemerintah     |\n",
            "| 24 | Taman Kunang - Kunang                     |   -7.31821 |     112.784 | pemerintah     |\n",
            "| 25 | Taman Kalongan                            |   -7.24121 |     112.733 | pemerintah     |\n",
            "| 26 | Taman Sejarah                             |   -7.2361  |     112.738 | pemerintah     |\n",
            "| 27 | Taman Pandugo                             |   -7.32094 |     112.79  | pemerintah     |\n",
            "| 28 | Taman Krembangan                          |   -7.23712 |     112.734 | pemerintah     |\n",
            "| 29 | Taman. Pelangi ( Ex. SPBU A. Yani/Dolog ) |   -7.32748 |     112.731 | pemerintah     |\n",
            "| 30 | Taman Suroboyo                            |   -7.2253  |     112.788 | pemerintah     |\n",
            "| 31 | Taman Tugu Pahlawan                       |   -7.24615 |     112.738 | pemerintah     |\n",
            "| 32 | Taman Mundu                               |   -7.25158 |     112.755 | pemerintah     |\n",
            "| 33 | Taman Surya                               |   -7.26003 |     112.747 | non-pemerintah |\n",
            "| 34 | Taman Persahabatan Korea                  |   -7.28294 |     112.737 | non-pemerintah |\n",
            "| 35 | Taman Ngagel Tirto                        |   -7.30012 |     112.74  | non-pemerintah |\n",
            "| 36 | Taman Karah Indah                         |   -7.3112  |     112.721 | non-pemerintah |\n",
            "| 37 | Taman Mozaik                              |   -7.31479 |     112.69  | pemerintah     |\n",
            "| 38 | Green Park Jemursari                      |   -7.32659 |     112.735 | non-pemerintah |\n",
            "| 39 | Taman Jayengrono                          |   -7.23442 |     112.739 | pemerintah     |\n",
            "| 40 | Taman Jagir                               |   -7.30174 |     112.744 | non-pemerintah |\n",
            "| 41 | Taman Monumen Polri                       |   -7.28083 |     112.741 | pemerintah     |\n",
            "| 42 | Taman Barunawati                          |   -7.22205 |     112.732 | non-pemerintah |\n",
            "| 43 | Taman Wira Surya Agung                    |   -7.29895 |     112.738 | non-pemerintah |\n",
            "| 44 | Taman Gantung Tunjungan                   |   -7.25682 |     112.738 | pemerintah     |\n",
            "| 45 | Taman Perpustakaan Bank Indonesia         |   -7.29443 |     112.739 | pemerintah     |\n",
            "| 46 | Taman Ujung Galuh                         |   -7.29106 |     112.743 | non-pemerintah |\n",
            "| 47 | Taman Jeruk                               |   -7.30649 |     112.638 | non-pemerintah |\n",
            "| 48 | Taman Anggrek Sememi                      |   -7.24821 |     112.645 | non-pemerintah |\n",
            "| 49 | Taman M. Duryat                           |   -7.26847 |     112.738 | pemerintah     |\n",
            "| 50 | Taman Kalongan                            |   -7.24126 |     112.733 | pemerintah     |\n",
            "+----+-------------------------------------------+------------+-------------+----------------+\n"
          ]
        }
      ]
    },
    {
      "cell_type": "markdown",
      "source": [
        "# **Clustering Menjadi 3 Grup**"
      ],
      "metadata": {
        "id": "TjfpvD9RC3g-"
      }
    },
    {
      "cell_type": "code",
      "source": [
        "# KMeans clustering\n",
        "kmeans = KMeans(n_clusters=3, random_state=42)\n",
        "df['Cluster'] = kmeans.fit_predict(df[['Latitude', 'Longitude']])\n",
        "\n",
        "# Output: jumlah taman per cluster\n",
        "print(\"Jumlah taman per cluster:\")\n",
        "print(df['Cluster'].value_counts().sort_index())\n",
        "\n",
        "# Output: total taman (tanpa DLH)\n",
        "total_taman_tanpa_dlh = len(df[df['Nama Taman'] != dlh_row['Nama Taman']])\n",
        "print(\"Total taman (tanpa DLH):\", total_taman_tanpa_dlh)"
      ],
      "metadata": {
        "colab": {
          "base_uri": "https://localhost:8080/"
        },
        "id": "StGQBPQAC6HF",
        "outputId": "478aa5e6-bf3a-47c0-a2d5-d6d53a2d82c1"
      },
      "execution_count": null,
      "outputs": [
        {
          "output_type": "stream",
          "name": "stdout",
          "text": [
            "Jumlah taman per cluster:\n",
            "Cluster\n",
            "0    18\n",
            "1    25\n",
            "2     8\n",
            "Name: count, dtype: int64\n",
            "Total taman (tanpa DLH): 50\n"
          ]
        }
      ]
    },
    {
      "cell_type": "markdown",
      "source": [
        "# **Distance Matrix dan Ant Colony Optimization TSP Solver**"
      ],
      "metadata": {
        "id": "yRJVAXLDDASD"
      }
    },
    {
      "cell_type": "code",
      "source": [
        "from geopy.distance import geodesic\n",
        "import numpy as np\n",
        "\n",
        "def create_distance_matrix(coords):\n",
        "    n = len(coords)\n",
        "    matrix = np.zeros((n, n))\n",
        "    for i in range(n):\n",
        "        for j in range(n):\n",
        "            if i != j:\n",
        "                matrix[i][j] = geodesic(coords[i], coords[j]).kilometers\n",
        "    return matrix\n",
        "\n",
        "def total_distance(path, matrix):\n",
        "    return sum(matrix[path[i]][path[i+1]] for i in range(len(path)-1))"
      ],
      "metadata": {
        "id": "c5Pra3kQDCix"
      },
      "execution_count": null,
      "outputs": []
    },
    {
      "cell_type": "markdown",
      "source": [
        "# **ACO Class**"
      ],
      "metadata": {
        "id": "yJGznxqXELvW"
      }
    },
    {
      "cell_type": "code",
      "source": [
        "class ACO_VRPTW:\n",
        "    def __init__(self, dist_matrix, service_times, depot_idx,\n",
        "                 max_time_per_vehicle=8, speed=30, n_ants=10, n_iter=100,\n",
        "                 alpha=1, beta=3, evaporation=0.5, Q=100):\n",
        "        self.dist_matrix = dist_matrix\n",
        "        self.service_times = service_times\n",
        "        self.depot_idx = depot_idx\n",
        "        self.n_nodes = len(dist_matrix)\n",
        "        self.max_time_per_vehicle = max_time_per_vehicle\n",
        "        self.speed = speed\n",
        "        self.n_ants = n_ants\n",
        "        self.n_iter = n_iter\n",
        "        self.alpha = alpha\n",
        "        self.beta = beta\n",
        "        self.evaporation = evaporation\n",
        "        self.Q = Q\n",
        "        self.pheromone = np.ones_like(dist_matrix)\n",
        "        self.heuristic = 1 / (dist_matrix + 1e-10)\n",
        "\n",
        "    def build_solution(self):\n",
        "        visited = set([self.depot_idx])\n",
        "        unvisited = set(range(self.n_nodes)) - {self.depot_idx}\n",
        "        routes = []\n",
        "        while unvisited:\n",
        "            # Mulai route baru\n",
        "            route = [self.depot_idx]\n",
        "            curr_idx = self.depot_idx\n",
        "            waktu_kerja = 0\n",
        "            while True:\n",
        "                # Cari node feasible berikutnya\n",
        "                feas = []\n",
        "                for j in unvisited:\n",
        "                    travel = self.dist_matrix[curr_idx][j] / self.speed\n",
        "                    s_time = self.service_times[j]\n",
        "                    pulang = self.dist_matrix[j][self.depot_idx] / self.speed\n",
        "                    if waktu_kerja + travel + s_time + pulang <= self.max_time_per_vehicle:\n",
        "                        feas.append(j)\n",
        "                if not feas:\n",
        "                    break\n",
        "                probs = []\n",
        "                for j in feas:\n",
        "                    tau = self.pheromone[curr_idx][j] ** self.alpha\n",
        "                    eta = self.heuristic[curr_idx][j] ** self.beta\n",
        "                    probs.append(tau * eta)\n",
        "                probs = np.array(probs)\n",
        "                probs = probs / probs.sum()\n",
        "                next_node = np.random.choice(feas, p=probs)\n",
        "                travel = self.dist_matrix[curr_idx][next_node] / self.speed\n",
        "                waktu_kerja += travel + self.service_times[next_node]\n",
        "                route.append(next_node)\n",
        "                visited.add(next_node)\n",
        "                unvisited.remove(next_node)\n",
        "                curr_idx = next_node\n",
        "            # Kembali ke depot\n",
        "            if route[-1] != self.depot_idx:\n",
        "                waktu_kerja += self.dist_matrix[curr_idx][self.depot_idx] / self.speed\n",
        "                route.append(self.depot_idx)\n",
        "            routes.append(route)\n",
        "        return routes\n",
        "\n",
        "    def solve(self):\n",
        "        best_routes = None\n",
        "        best_cost = float('inf')\n",
        "        for it in range(self.n_iter):\n",
        "            all_solutions = []\n",
        "            for ant in range(self.n_ants):\n",
        "                routes = self.build_solution()\n",
        "                total_cost = sum(\n",
        "                    sum(self.dist_matrix[route[i]][route[i+1]] for i in range(len(route)-1))\n",
        "                    for route in routes\n",
        "                )\n",
        "                all_solutions.append((routes, total_cost))\n",
        "                if total_cost < best_cost:\n",
        "                    best_routes = routes\n",
        "                    best_cost = total_cost\n",
        "            # Update pheromone\n",
        "            self.pheromone *= (1 - self.evaporation)\n",
        "            for routes, cost in all_solutions:\n",
        "                for route in routes:\n",
        "                    for i in range(len(route)-1):\n",
        "                        self.pheromone[route[i]][route[i+1]] += self.Q / (cost + 1e-6)\n",
        "        return best_routes\n"
      ],
      "metadata": {
        "id": "9ABgP38RG01y"
      },
      "execution_count": null,
      "outputs": []
    },
    {
      "cell_type": "code",
      "source": [
        "import random\n",
        "import numpy as np\n",
        "\n",
        "class ACO:\n",
        "    def __init__(self, n_ants, n_iterations, alpha, beta, evaporation_rate, Q,\n",
        "                 service_times, kecepatan_truk_kmh=30, maks_jam_kerja=8, depot_index=0):\n",
        "        self.n_ants = n_ants\n",
        "        self.n_iterations = n_iterations\n",
        "        self.alpha = alpha\n",
        "        self.beta = beta\n",
        "        self.evaporation_rate = evaporation_rate\n",
        "        self.Q = Q\n",
        "        self.service_times = service_times\n",
        "        self.kecepatan_truk_kmh = kecepatan_truk_kmh\n",
        "        self.maks_jam_kerja = maks_jam_kerja\n",
        "        self.depot_index = depot_index\n",
        "\n",
        "    def _select_next_node(self, current_node, unvisited, pheromone, heuristic):\n",
        "        if not unvisited:\n",
        "            return None\n",
        "        probs = []\n",
        "        for node in unvisited:\n",
        "            tau = pheromone[current_node][node] ** self.alpha\n",
        "            eta = heuristic[current_node][node] ** self.beta\n",
        "            probs.append(tau * eta)\n",
        "        probs = np.array(probs)\n",
        "        if probs.sum() == 0:\n",
        "            probs = np.ones_like(probs) / len(probs)\n",
        "        else:\n",
        "            probs = probs / probs.sum()\n",
        "        return random.choices(list(unvisited), weights=probs)[0]\n",
        "\n",
        "    def solve(self, dist_matrix, n_vehicle=1):\n",
        "        n_nodes = len(dist_matrix)\n",
        "        pheromone = np.ones((n_nodes, n_nodes))\n",
        "        heuristic = 1 / (dist_matrix + 1e-10)\n",
        "        best_solution, best_cost, best_times = None, float('inf'), None\n",
        "\n",
        "        for _ in range(self.n_iterations):\n",
        "            all_solutions = []\n",
        "            all_times = []\n",
        "            for _ in range(self.n_ants):\n",
        "                unvisited = set(range(n_nodes))\n",
        "                unvisited.remove(self.depot_index)\n",
        "                route = [self.depot_index]\n",
        "                current_node = self.depot_index\n",
        "                while unvisited:\n",
        "                    next_node = self._select_next_node(current_node, unvisited, pheromone, heuristic)\n",
        "                    if next_node is None:\n",
        "                        break\n",
        "                    route.append(next_node)\n",
        "                    unvisited.remove(next_node)\n",
        "                    current_node = next_node\n",
        "                route.append(self.depot_index)\n",
        "                cost = sum(dist_matrix[route[i]][route[i+1]] for i in range(len(route)-1))\n",
        "                all_solutions.append((route, cost))\n",
        "                if cost < best_cost:\n",
        "                    best_solution = route\n",
        "                    best_cost = cost\n",
        "            pheromone *= (1 - self.evaporation_rate)\n",
        "            for (route, cost) in all_solutions:\n",
        "                for i in range(len(route) - 1):\n",
        "                    pheromone[route[i]][route[i + 1]] += self.Q / (cost + 1e-6)\n",
        "        return best_solution, best_cost, None\n"
      ],
      "metadata": {
        "id": "JyknZtd-O--x"
      },
      "execution_count": null,
      "outputs": []
    },
    {
      "cell_type": "markdown",
      "source": [
        "# **Proses TSP Setiap Cluster (DLH disisipkan di awal)**"
      ],
      "metadata": {
        "id": "axRWPNCROeQu"
      }
    },
    {
      "cell_type": "code",
      "source": [
        "from datetime import datetime, timedelta\n",
        "\n",
        "kecepatan_truk_kmh = 30\n",
        "maks_jam_kerja_default = 8\n",
        "maks_jam_kerja_cluster0 = 7   # UBAH DI SINI: max 7 jam utk cluster 0\n",
        "start_time_str = \"08:00\"\n",
        "\n",
        "def get_service_time(kategori):\n",
        "    return 0.5 if kategori.strip().lower() == 'pemerintah' else 0.25\n",
        "\n",
        "cluster_results = []\n",
        "\n",
        "for cluster_id in sorted(df['Cluster'].unique()):\n",
        "    dlh_row = df[df['Nama Taman'].str.contains(\"Dinas Lingkungan Hidup\", case=False, na=False)].iloc[0]\n",
        "    depot = pd.DataFrame({\n",
        "        'Nama Taman': [dlh_row['Nama Taman']],\n",
        "        'Latitude': [dlh_row['Latitude']],\n",
        "        'Longitude': [dlh_row['Longitude']],\n",
        "        'Kategori': [dlh_row['Kategori']],\n",
        "        'Cluster': [cluster_id]\n",
        "    })\n",
        "    cluster_df = df[(df['Cluster'] == cluster_id) &\n",
        "                    (~df['Nama Taman'].str.contains(\"Dinas Lingkungan Hidup\", case=False, na=False))].reset_index(drop=True)\n",
        "    cluster_df = pd.concat([depot, cluster_df], ignore_index=True)\n",
        "    coords = cluster_df[['Latitude', 'Longitude']].values\n",
        "    service_times = cluster_df['Kategori'].map(get_service_time).values\n",
        "    dist_matrix = np.array([[geodesic(a, b).km for b in coords] for a in coords])\n",
        "\n",
        "    # --- TSP (ACO single vehicle)\n",
        "    tsp_solver = ACO(\n",
        "        n_ants=10, n_iterations=200, alpha=1, beta=3, evaporation_rate=0.5, Q=100,\n",
        "        service_times=[0]*len(cluster_df),\n",
        "        kecepatan_truk_kmh=kecepatan_truk_kmh,\n",
        "        maks_jam_kerja=9999,\n",
        "        depot_index=0\n",
        "    )\n",
        "    best_path, *_ = tsp_solver.solve(dist_matrix, n_vehicle=1)\n",
        "    if isinstance(best_path[0], list):\n",
        "        best_path = best_path[0]\n",
        "    while best_path[0] != 0:\n",
        "        best_path = best_path[1:] + best_path[:1]\n",
        "    if best_path[-1] != 0:\n",
        "        best_path.append(0)\n",
        "\n",
        "    curr_vehicle = 1\n",
        "    time_start = datetime.strptime(start_time_str, \"%H:%M\")\n",
        "    idx_pointer = 1\n",
        "    n_nodes = len(best_path)\n",
        "    batas_jam = maks_jam_kerja_cluster0 if cluster_id == 0 else maks_jam_kerja_default\n",
        "\n",
        "    while idx_pointer < n_nodes:\n",
        "        trip_idx = [0]\n",
        "        total_time = 0\n",
        "        last_idx = 0\n",
        "        while idx_pointer < n_nodes:\n",
        "            next_idx = best_path[idx_pointer]\n",
        "            travel = dist_matrix[last_idx][next_idx] / kecepatan_truk_kmh\n",
        "            service = 0 if next_idx == 0 else service_times[next_idx]\n",
        "            balik_depot = dist_matrix[next_idx][0] / kecepatan_truk_kmh\n",
        "\n",
        "            if (total_time + travel + service + balik_depot) > batas_jam and trip_idx[-1] != 0:\n",
        "                break\n",
        "            trip_idx.append(next_idx)\n",
        "            total_time += travel + service\n",
        "            last_idx = next_idx\n",
        "            idx_pointer += 1\n",
        "            if next_idx == 0:\n",
        "                break\n",
        "        if trip_idx[-1] != 0:\n",
        "            total_time += dist_matrix[last_idx][0] / kecepatan_truk_kmh\n",
        "            trip_idx.append(0)\n",
        "\n",
        "        urut = 1\n",
        "        waktu_mulai = time_start\n",
        "        waktu_selesai = waktu_mulai + timedelta(hours=total_time)\n",
        "        for idx in trip_idx:\n",
        "            row = cluster_df.iloc[idx].copy()\n",
        "            row['Cluster'] = cluster_id\n",
        "            row['Kendaraan'] = curr_vehicle\n",
        "            row['Urutan'] = urut\n",
        "            row['Waktu Mulai'] = waktu_mulai.strftime(\"%H:%M\")\n",
        "            row['Waktu Selesai'] = waktu_selesai.strftime(\"%H:%M\")\n",
        "            cluster_results.append(row)\n",
        "            urut += 1\n",
        "        curr_vehicle += 1\n",
        "        time_start = waktu_selesai\n",
        "\n",
        "df_rute_final = pd.DataFrame(cluster_results).reset_index(drop=True)\n",
        "\n",
        "for cl in sorted(df_rute_final['Cluster'].unique()):\n",
        "    n_vehicle = df_rute_final[df_rute_final['Cluster'] == cl]['Kendaraan'].nunique()\n",
        "    print(f\"Cluster {cl}: {n_vehicle} kendaraan digunakan.\")\n",
        "\n",
        "print(\"\\nTabulate preview:\")\n",
        "print(tabulate(\n",
        "    df_rute_final[['Cluster', 'Kendaraan', 'Urutan', 'Nama Taman', 'Kategori', 'Waktu Mulai', 'Waktu Selesai']],\n",
        "    headers='keys', tablefmt='psql', showindex=False\n",
        "))\n"
      ],
      "metadata": {
        "colab": {
          "base_uri": "https://localhost:8080/"
        },
        "id": "_-9x6ymKARiX",
        "outputId": "f68d1aa1-beeb-4160-c108-7e27067b38a6"
      },
      "execution_count": null,
      "outputs": [
        {
          "output_type": "stream",
          "name": "stdout",
          "text": [
            "Cluster 0: 2 kendaraan digunakan.\n",
            "Cluster 1: 2 kendaraan digunakan.\n",
            "Cluster 2: 1 kendaraan digunakan.\n",
            "\n",
            "Tabulate preview:\n",
            "+-----------+-------------+----------+-------------------------------------------+----------------+---------------+-----------------+\n",
            "|   Cluster |   Kendaraan |   Urutan | Nama Taman                                | Kategori       | Waktu Mulai   | Waktu Selesai   |\n",
            "|-----------+-------------+----------+-------------------------------------------+----------------+---------------+-----------------|\n",
            "|         0 |           1 |        1 | Kantor Dinas Lingkungan Hidup             | pemerintah     | 08:00         | 14:58           |\n",
            "|         0 |           1 |        2 | Taman Ngagel                              | pemerintah     | 08:00         | 14:58           |\n",
            "|         0 |           1 |        3 | Taman Ujung Galuh                         | non-pemerintah | 08:00         | 14:58           |\n",
            "|         0 |           1 |        4 | Taman Bungkul                             | pemerintah     | 08:00         | 14:58           |\n",
            "|         0 |           1 |        5 | Taman Perpustakaan Bank Indonesia         | pemerintah     | 08:00         | 14:58           |\n",
            "|         0 |           1 |        6 | Taman Wira Surya Agung                    | non-pemerintah | 08:00         | 14:58           |\n",
            "|         0 |           1 |        7 | Taman Ngagel Tirto                        | non-pemerintah | 08:00         | 14:58           |\n",
            "|         0 |           1 |        8 | Taman Lumumba                             | pemerintah     | 08:00         | 14:58           |\n",
            "|         0 |           1 |        9 | Taman Jagir                               | non-pemerintah | 08:00         | 14:58           |\n",
            "|         0 |           1 |       10 | Taman. Ronggolawe                         | pemerintah     | 08:00         | 14:58           |\n",
            "|         0 |           1 |       11 | Taman Mayangkara                          | pemerintah     | 08:00         | 14:58           |\n",
            "|         0 |           1 |       12 | Taman Karah Indah                         | non-pemerintah | 08:00         | 14:58           |\n",
            "|         0 |           1 |       13 | Green Park Jemursari                      | non-pemerintah | 08:00         | 14:58           |\n",
            "|         0 |           1 |       14 | Taman. Pelangi ( Ex. SPBU A. Yani/Dolog ) | pemerintah     | 08:00         | 14:58           |\n",
            "|         0 |           1 |       15 | Taman Mozaik                              | pemerintah     | 08:00         | 14:58           |\n",
            "|         0 |           1 |       16 | Taman Jeruk                               | non-pemerintah | 08:00         | 14:58           |\n",
            "|         0 |           1 |       17 | Kantor Dinas Lingkungan Hidup             | pemerintah     | 08:00         | 14:58           |\n",
            "|         0 |           2 |        1 | Kantor Dinas Lingkungan Hidup             | pemerintah     | 14:58         | 16:29           |\n",
            "|         0 |           2 |        2 | Taman Lesti                               | pemerintah     | 14:58         | 16:29           |\n",
            "|         0 |           2 |        3 | Taman Persahabatan Korea                  | non-pemerintah | 14:58         | 16:29           |\n",
            "|         0 |           2 |        4 | Taman Monumen Polri                       | pemerintah     | 14:58         | 16:29           |\n",
            "|         0 |           2 |        5 | Kantor Dinas Lingkungan Hidup             | pemerintah     | 14:58         | 16:29           |\n",
            "|         1 |           1 |        1 | Kantor Dinas Lingkungan Hidup             | pemerintah     | 08:00         | 15:44           |\n",
            "|         1 |           1 |        2 | Taman. Lansia                             | pemerintah     | 08:00         | 15:44           |\n",
            "|         1 |           1 |        3 | Taman AIS Nasution                        | pemerintah     | 08:00         | 15:44           |\n",
            "|         1 |           1 |        4 | Taman M. Duryat                           | pemerintah     | 08:00         | 15:44           |\n",
            "|         1 |           1 |        5 | Taman Prestasi                            | pemerintah     | 08:00         | 15:44           |\n",
            "|         1 |           1 |        6 | Taman Apsari                              | pemerintah     | 08:00         | 15:44           |\n",
            "|         1 |           1 |        7 | Taman Surya                               | non-pemerintah | 08:00         | 15:44           |\n",
            "|         1 |           1 |        8 | Taman Ekspresi                            | pemerintah     | 08:00         | 15:44           |\n",
            "|         1 |           1 |        9 | Taman Buah Undaan                         | pemerintah     | 08:00         | 15:44           |\n",
            "|         1 |           1 |       10 | Taman Gantung Tunjungan                   | pemerintah     | 08:00         | 15:44           |\n",
            "|         1 |           1 |       11 | Taman Tugu Pahlawan                       | pemerintah     | 08:00         | 15:44           |\n",
            "|         1 |           1 |       12 | Taman Kalongan                            | pemerintah     | 08:00         | 15:44           |\n",
            "|         1 |           1 |       13 | Taman Kalongan                            | pemerintah     | 08:00         | 15:44           |\n",
            "|         1 |           1 |       14 | Taman Krembangan                          | pemerintah     | 08:00         | 15:44           |\n",
            "|         1 |           1 |       15 | Taman Sejarah                             | pemerintah     | 08:00         | 15:44           |\n",
            "|         1 |           1 |       16 | Taman Jayengrono                          | pemerintah     | 08:00         | 15:44           |\n",
            "|         1 |           1 |       17 | Kantor Dinas Lingkungan Hidup             | pemerintah     | 08:00         | 15:44           |\n",
            "|         1 |           2 |        1 | Kantor Dinas Lingkungan Hidup             | pemerintah     | 15:44         | 21:44           |\n",
            "|         1 |           2 |        2 | Taman Barunawati                          | non-pemerintah | 15:44         | 21:44           |\n",
            "|         1 |           2 |        3 | Taman Suroboyo                            | pemerintah     | 15:44         | 21:44           |\n",
            "|         1 |           2 |        4 | Taman Mundu                               | pemerintah     | 15:44         | 21:44           |\n",
            "|         1 |           2 |        5 | Taman 10 Nopember                         | pemerintah     | 15:44         | 21:44           |\n",
            "|         1 |           2 |        6 | Taman Teratai                             | pemerintah     | 15:44         | 21:44           |\n",
            "|         1 |           2 |        7 | Taman Paliatif (Taman Soka)               | pemerintah     | 15:44         | 21:44           |\n",
            "|         1 |           2 |        8 | Taman BMX Ketabang                        | pemerintah     | 15:44         | 21:44           |\n",
            "|         1 |           2 |        9 | Taman Anggrek Sememi                      | non-pemerintah | 15:44         | 21:44           |\n",
            "|         1 |           2 |       10 | Taman Keputran                            | pemerintah     | 15:44         | 21:44           |\n",
            "|         1 |           2 |       11 | Taman. Persahabatan                       | pemerintah     | 15:44         | 21:44           |\n",
            "|         1 |           2 |       12 | Kantor Dinas Lingkungan Hidup             | pemerintah     | 15:44         | 21:44           |\n",
            "|         2 |           1 |        1 | Kantor Dinas Lingkungan Hidup             | pemerintah     | 08:00         | 11:58           |\n",
            "|         2 |           1 |        2 | Taman Flora                               | pemerintah     | 08:00         | 11:58           |\n",
            "|         2 |           1 |        3 | Taman Nginden Intan                       | pemerintah     | 08:00         | 11:58           |\n",
            "|         2 |           1 |        4 | Taman Kunang - Kunang                     | pemerintah     | 08:00         | 11:58           |\n",
            "|         2 |           1 |        5 | Taman Pandugo                             | pemerintah     | 08:00         | 11:58           |\n",
            "|         2 |           1 |        6 | Taman Kebun Bibit Wonorejo                | pemerintah     | 08:00         | 11:58           |\n",
            "|         2 |           1 |        7 | Taman PUPR                                | pemerintah     | 08:00         | 11:58           |\n",
            "|         2 |           1 |        8 | Taman Harmoni                             | pemerintah     | 08:00         | 11:58           |\n",
            "|         2 |           1 |        9 | Kantor Dinas Lingkungan Hidup             | pemerintah     | 08:00         | 11:58           |\n",
            "+-----------+-------------+----------+-------------------------------------------+----------------+---------------+-----------------+\n"
          ]
        }
      ]
    },
    {
      "cell_type": "markdown",
      "source": [
        "# Mencari Seed untuk optimasi rute yang paling optimal"
      ],
      "metadata": {
        "id": "HCYkdsolcNTS"
      }
    },
    {
      "cell_type": "code",
      "source": [
        "from datetime import timedelta, datetime\n",
        "import numpy as np\n",
        "import pandas as pd\n",
        "import random\n",
        "from geopy.distance import geodesic\n",
        "\n",
        "# --- DEFINISI KONFIGURASI ---\n",
        "kecepatan_truk_kmh = 30\n",
        "start_time_str = \"08:00\"\n",
        "vehicle_per_cluster = {0: 2, 1: 3, 2: 1}\n",
        "cluster_max_hours = {0: 7, 1: 8, 2: 8}  # cluster 0 khusus max 7 jam\n",
        "\n",
        "# --- HELPER FUNCTION ---\n",
        "def get_inspeksi(kategori):\n",
        "    return 0.5 if kategori.strip().lower() == 'pemerintah' else 0.25\n",
        "\n",
        "def create_distance_matrix(coords):\n",
        "    n = len(coords)\n",
        "    matrix = np.zeros((n, n))\n",
        "    for i in range(n):\n",
        "        for j in range(n):\n",
        "            if i != j:\n",
        "                matrix[i][j] = geodesic(coords[i], coords[j]).kilometers\n",
        "    return matrix\n",
        "\n",
        "def get_dlh_df(cluster_id):\n",
        "    return pd.DataFrame({\n",
        "        'Nama Taman': [dlh_row['Nama Taman']],\n",
        "        'Latitude': [dlh_row['Latitude']],\n",
        "        'Longitude': [dlh_row['Longitude']],\n",
        "        'Kategori': [dlh_row['Kategori']],\n",
        "        'Cluster': [cluster_id],\n",
        "        'ServiceTime': [get_inspeksi(dlh_row['Kategori'])]\n",
        "    })\n",
        "\n",
        "# --- GRID SEARCH SEED ---\n",
        "best_total_time = float('inf')\n",
        "best_seed = None\n",
        "best_rute_final = None\n",
        "best_hasil_per_cluster = None\n",
        "\n",
        "for seed in range(1, 102):\n",
        "    np.random.seed(seed)\n",
        "    random.seed(seed)\n",
        "    cluster_results = []\n",
        "\n",
        "    for cluster_id in sorted(df['Cluster'].unique()):\n",
        "        cluster_df = df[(df['Cluster'] == cluster_id) & (~df['Nama Taman'].str.contains(\"Dinas Lingkungan Hidup\", case=False))].reset_index(drop=True)\n",
        "        dlh_df = get_dlh_df(cluster_id)\n",
        "        sisa_idx = list(cluster_df.index)\n",
        "        vehicle_num = 1\n",
        "        time_start = datetime.strptime(start_time_str, \"%H:%M\")\n",
        "        max_jam = cluster_max_hours.get(cluster_id, 8)\n",
        "\n",
        "        while sisa_idx:\n",
        "            route = [0]\n",
        "            waktu_kerja = 0\n",
        "            curr_idx = 0\n",
        "            sub_df = pd.concat([dlh_df, cluster_df.loc[sisa_idx]], ignore_index=True)\n",
        "            coords = sub_df[['Latitude', 'Longitude']].values\n",
        "            dist_matrix = create_distance_matrix(coords)\n",
        "            visited_local = []\n",
        "\n",
        "            while True:\n",
        "                pilihan = []\n",
        "                for idx in range(1, len(sub_df)):\n",
        "                    if idx-1 in visited_local:\n",
        "                        continue\n",
        "                    travel = dist_matrix[curr_idx][idx] / kecepatan_truk_kmh\n",
        "                    service = sub_df.iloc[idx]['ServiceTime']\n",
        "                    pulang = dist_matrix[idx][0] / kecepatan_truk_kmh\n",
        "                    if waktu_kerja + travel + service + pulang > max_jam:\n",
        "                        continue\n",
        "                    pilihan.append((idx, travel, service))\n",
        "                if not pilihan:\n",
        "                    break\n",
        "                pilihan.sort(key=lambda x: x[1] + 0.01 * random.random())\n",
        "                next_idx = pilihan[0][0]\n",
        "                waktu_kerja += pilihan[0][1] + pilihan[0][2]\n",
        "                curr_idx = next_idx\n",
        "                route.append(curr_idx)\n",
        "                visited_local.append(curr_idx - 1)\n",
        "\n",
        "            route.append(0)\n",
        "            waktu_kerja += dist_matrix[curr_idx][0] / kecepatan_truk_kmh\n",
        "\n",
        "            # Setelah kalkulasi waktu_kerja\n",
        "            if np.isnan(waktu_kerja) or len(route) <= 2:\n",
        "                break  # Skip trip jika gagal dapat titik\n",
        "\n",
        "            # Simpan hasil trip\n",
        "            route_result = sub_df.iloc[route].copy().reset_index(drop=True)\n",
        "            route_result['Urutan'] = range(1, len(route_result) + 1)\n",
        "            route_result['Kendaraan'] = vehicle_num\n",
        "            route_result['Cluster'] = cluster_id\n",
        "            route_result['Waktu Mulai'] = time_start.strftime('%H:%M')\n",
        "            route_result['Waktu Selesai'] = (time_start + timedelta(hours=waktu_kerja)).strftime('%H:%M')\n",
        "            route_result['Total Jam'] = round(waktu_kerja, 2)\n",
        "            cluster_results.append(route_result)\n",
        "\n",
        "            real_idx_visited = [sisa_idx[v] for v in visited_local]\n",
        "            sisa_idx = [x for x in sisa_idx if x not in real_idx_visited]\n",
        "\n",
        "            time_start += timedelta(hours=waktu_kerja)\n",
        "            vehicle_num += 1\n",
        "            if vehicle_num > vehicle_per_cluster.get(cluster_id, 100):\n",
        "                break\n",
        "\n",
        "    if len(cluster_results) == 0:\n",
        "        continue\n",
        "    df_rute_final = pd.concat(cluster_results, ignore_index=True)\n",
        "\n",
        "    # Evaluasi maksimum waktu tempuh antar kendaraan\n",
        "    waktu_terlama = df_rute_final.groupby(['Cluster', 'Kendaraan'])['Total Jam'].max().max()\n",
        "    if waktu_terlama < best_total_time:\n",
        "        best_total_time = waktu_terlama\n",
        "        best_seed = seed\n",
        "        best_rute_final = df_rute_final.copy()\n",
        "\n",
        "# --- OUTPUT ---\n",
        "print(f\"\\n✅ Seed terbaik: {best_seed} dengan waktu tempuh maksimal: {round(best_total_time, 2)} jam\")\n",
        "pd.set_option('display.max_columns', None)\n",
        "display(best_rute_final)\n"
      ],
      "metadata": {
        "id": "loyRCOnSWioc",
        "colab": {
          "base_uri": "https://localhost:8080/",
          "height": 69
        },
        "outputId": "8728e14a-9068-49f0-9802-b0a397e479c6"
      },
      "execution_count": null,
      "outputs": [
        {
          "output_type": "stream",
          "name": "stdout",
          "text": [
            "\n",
            "✅ Seed terbaik: None dengan waktu tempuh maksimal: inf jam\n"
          ]
        },
        {
          "output_type": "display_data",
          "data": {
            "text/plain": [
              "None"
            ]
          },
          "metadata": {}
        }
      ]
    },
    {
      "cell_type": "markdown",
      "source": [
        "# **Visualisasi Pembagian Cluster**"
      ],
      "metadata": {
        "id": "TyBlTIKMJADJ"
      }
    },
    {
      "cell_type": "code",
      "source": [
        "import matplotlib.pyplot as plt\n",
        "\n",
        "plt.figure(figsize=(10, 8))\n",
        "colors = ['green', 'red', 'blue', 'orange', 'purple', 'cyan']\n",
        "for cluster_id, color in zip(sorted(df['Cluster'].unique()), colors):\n",
        "    cluster_df = df[df['Cluster'] == cluster_id]\n",
        "    plt.scatter(cluster_df['Longitude'], cluster_df['Latitude'], label=f'Cluster {cluster_id}', color=color, s=60)\n",
        "\n",
        "plt.scatter(dlh_coord[1], dlh_coord[0], c='black', marker='X', s=200, label='DLH (Depot)')\n",
        "plt.title('Sebaran Taman dan Cluster (Hasil KMeans)')\n",
        "plt.xlabel('Longitude')\n",
        "plt.ylabel('Latitude')\n",
        "plt.legend()\n",
        "plt.grid(True)\n",
        "plt.show()\n"
      ],
      "metadata": {
        "id": "OuOqnEP-Hgqa"
      },
      "execution_count": null,
      "outputs": []
    },
    {
      "cell_type": "markdown",
      "source": [
        "# **Visualisasi Rute TSP Optimal + DLH**"
      ],
      "metadata": {
        "id": "Af_SITMYMHAz"
      }
    },
    {
      "cell_type": "code",
      "source": [
        "import matplotlib.pyplot as plt\n",
        "import itertools\n",
        "\n",
        "plt.figure(figsize=(10, 8))\n",
        "# Banyak warna, supaya cukup untuk semua kendaraan!\n",
        "color_list = ['green', 'red', 'blue', 'orange', 'purple', 'cyan', 'brown', 'magenta', 'olive', 'grey']\n",
        "color_cycle = itertools.cycle(color_list)\n",
        "\n",
        "for cluster_id in sorted(df_rute_final['Cluster'].unique()):\n",
        "    cluster_rute = df_rute_final[df_rute_final['Cluster'] == cluster_id]\n",
        "    for kendaraan in sorted(cluster_rute['Kendaraan'].unique()):\n",
        "        trip = cluster_rute[cluster_rute['Kendaraan'] == kendaraan].sort_values('Urutan')\n",
        "        trip = pd.concat([trip, trip.iloc[[0]]], ignore_index=True)\n",
        "        warna = next(color_cycle)\n",
        "        plt.plot(trip['Longitude'], trip['Latitude'], '-o',\n",
        "                 label=f'Cluster {cluster_id} - Kendaraan {kendaraan}',\n",
        "                 alpha=0.75, color=warna)\n",
        "        plt.scatter(trip.iloc[0]['Longitude'], trip.iloc[0]['Latitude'],\n",
        "                    c='black', marker='X', s=150)\n",
        "\n",
        "plt.title('Rute VRPTW (Setiap Kendaraan Berbeda Warna)')\n",
        "plt.xlabel('Longitude')\n",
        "plt.ylabel('Latitude')\n",
        "plt.legend()\n",
        "plt.grid(True)\n",
        "plt.show()"
      ],
      "metadata": {
        "id": "s8CdU0i_MIvO"
      },
      "execution_count": null,
      "outputs": []
    },
    {
      "cell_type": "markdown",
      "source": [
        "# **Visualisasi Folium**"
      ],
      "metadata": {
        "id": "vkdoS_nfJU-9"
      }
    },
    {
      "cell_type": "code",
      "source": [
        "import folium\n",
        "from folium.plugins import PolyLineTextPath\n",
        "\n",
        "# Daftar warna yang didukung Folium\n",
        "folium_vehicle_colors = [\n",
        "    'red', 'blue', 'green', 'purple', 'orange', 'darkred', 'lightred',\n",
        "    'beige', 'darkblue', 'darkgreen', 'cadetblue', 'darkpurple', 'white',\n",
        "    'pink', 'lightblue', 'lightgreen', 'gray', 'black', 'lightgray'\n",
        "]\n",
        "\n",
        "# Ganti 'Vehicle' ke 'Kendaraan' jika pakai kolom 'Kendaraan'\n",
        "kolom_vehicle = 'Kendaraan' if 'Kendaraan' in df_rute_final.columns else 'Vehicle'\n",
        "\n",
        "# Mapping (Cluster, Vehicle) ke warna\n",
        "vehicle_ids = (\n",
        "    df_rute_final[['Cluster', kolom_vehicle]]\n",
        "    .drop_duplicates()\n",
        "    .sort_values(['Cluster', kolom_vehicle])\n",
        "    .reset_index(drop=True)\n",
        ")\n",
        "vehicle_ids['color'] = [folium_vehicle_colors[i % len(folium_vehicle_colors)] for i in range(len(vehicle_ids))]\n",
        "vehicle_color_map = {(row['Cluster'], row[kolom_vehicle]): row['color'] for _, row in vehicle_ids.iterrows()}\n",
        "\n",
        "# Peta awal di depot\n",
        "m = folium.Map(location=dlh_coord, zoom_start=13)\n",
        "\n",
        "for cluster_id in sorted(df_rute_final['Cluster'].unique()):\n",
        "    r = df_rute_final[df_rute_final['Cluster'] == cluster_id]\n",
        "    for v in sorted(r[kolom_vehicle].unique()):\n",
        "        trip = r[r[kolom_vehicle]==v].sort_values('Urutan')\n",
        "        # Tutup loop ke depot jika belum\n",
        "        if not (\n",
        "            np.isclose(trip.iloc[0]['Longitude'], trip.iloc[-1]['Longitude']) and\n",
        "            np.isclose(trip.iloc[0]['Latitude'], trip.iloc[-1]['Latitude'])\n",
        "        ):\n",
        "            trip = pd.concat([trip, trip.iloc[0:1]], ignore_index=True)\n",
        "        points = list(zip(trip['Latitude'], trip['Longitude']))\n",
        "        color = vehicle_color_map[(cluster_id, v)]\n",
        "        line = folium.PolyLine(points, color=color, weight=4, opacity=0.7).add_to(m)\n",
        "        PolyLineTextPath(line, '➤   ', repeat=True, offset=6, attributes={'fill': color}).add_to(m)\n",
        "        for _, row in trip.iterrows():\n",
        "            folium.Marker(\n",
        "                location=[row['Latitude'], row['Longitude']],\n",
        "                popup=f\"{row['Nama Taman']} (Cluster {cluster_id}, Vehicle {v}, Urutan {row['Urutan']})\",\n",
        "                icon=folium.Icon(color=color)\n",
        "            ).add_to(m)\n",
        "\n",
        "# Marker untuk depot\n",
        "folium.Marker(\n",
        "    location=dlh_coord,\n",
        "    popup=\"DLH (Depot)\",\n",
        "    icon=folium.Icon(color=\"black\", icon=\"home\")\n",
        ").add_to(m)\n",
        "\n",
        "m"
      ],
      "metadata": {
        "id": "JkxR3ByyJdge"
      },
      "execution_count": null,
      "outputs": []
    },
    {
      "cell_type": "markdown",
      "source": [
        "# **Detail Jarak Antar Taman per Cluster (Urutan Rute ACO)**\n"
      ],
      "metadata": {
        "id": "TMo1C2co-vYD"
      }
    },
    {
      "cell_type": "code",
      "source": [
        "from geopy.distance import geodesic\n",
        "from tabulate import tabulate\n",
        "\n",
        "kolom_vehicle = 'Kendaraan' if 'Kendaraan' in df_rute_final.columns else 'Vehicle'\n",
        "\n",
        "for cluster_id in sorted(df_rute_final['Cluster'].unique()):\n",
        "    print(f\"\\n{'='*30}\\nRUTE CLUSTER {cluster_id}\\n{'='*30}\")\n",
        "    r = df_rute_final[df_rute_final['Cluster'] == cluster_id].sort_values([kolom_vehicle, 'Urutan']).reset_index(drop=True)\n",
        "    for v in r[kolom_vehicle].unique():\n",
        "        trip = r[r[kolom_vehicle] == v].sort_values('Urutan').reset_index(drop=True)\n",
        "        trip = pd.concat([trip, trip.iloc[0:1]], ignore_index=True)\n",
        "        output_rows = []\n",
        "        for i in range(len(trip) - 1):\n",
        "            a, b = trip.iloc[i], trip.iloc[i+1]\n",
        "            jarak = geodesic((a['Latitude'], a['Longitude']), (b['Latitude'], b['Longitude'])).kilometers\n",
        "            # Kategori fallback ke 'Status' jika tidak ada\n",
        "            status_a = a['Kategori'] if 'Kategori' in a else a.get('Status', '-')\n",
        "            status_b = b['Kategori'] if 'Kategori' in b else b.get('Status', '-')\n",
        "            # Skip baris depot ke depot jika jaraknya 0 (atau sangat kecil, toleransi <0.01 km)\n",
        "            if (a['Nama Taman'] == b['Nama Taman']) and (jarak < 0.01):\n",
        "                continue\n",
        "            output_rows.append({\n",
        "                'Dari': f\"{a['Nama Taman']} ({status_a})\",\n",
        "                'Ke': f\"{b['Nama Taman']} ({status_b})\",\n",
        "                'Jarak (km)': f\"{jarak:.2f}\"\n",
        "            })\n",
        "        print(f\"\\n--- {kolom_vehicle} {v} ---\")\n",
        "        print(tabulate(output_rows, headers='keys', tablefmt='psql', showindex=False))"
      ],
      "metadata": {
        "id": "cOESQ9LZ-v81"
      },
      "execution_count": null,
      "outputs": []
    },
    {
      "cell_type": "markdown",
      "source": [
        "# **Total Jarak & Waktu Tempuh Truk per Cluster (Fixed Speed 30 km/jam)**"
      ],
      "metadata": {
        "id": "lstm4mZNyeBc"
      }
    },
    {
      "cell_type": "code",
      "source": [
        "from geopy.distance import geodesic\n",
        "from tabulate import tabulate\n",
        "\n",
        "kecepatan_truk_kmh = 30  # <--- TAMBAHKAN INI JIKA BELUM ADA\n",
        "\n",
        "hasil_per_cluster = []\n",
        "kolom_vehicle = 'Kendaraan' if 'Kendaraan' in df_rute_final.columns else 'Vehicle'\n",
        "\n",
        "for cluster_id in sorted(df_rute_final['Cluster'].unique()):\n",
        "    r = df_rute_final[df_rute_final['Cluster'] == cluster_id]\n",
        "    for v in r[kolom_vehicle].unique():\n",
        "        trip = r[r[kolom_vehicle] == v].sort_values('Urutan')\n",
        "        trip = pd.concat([trip, trip.iloc[0:1]], ignore_index=True)\n",
        "        total_jarak = 0\n",
        "        total_inspeksi_jam = 0\n",
        "        n_taman = len(trip) - 2  # exclude depot awal & akhir\n",
        "\n",
        "        for i in range(len(trip) - 1):\n",
        "            coord_a = (trip.iloc[i]['Latitude'], trip.iloc[i]['Longitude'])\n",
        "            coord_b = (trip.iloc[i+1]['Latitude'], trip.iloc[i+1]['Longitude'])\n",
        "            total_jarak += geodesic(coord_a, coord_b).kilometers\n",
        "            # Waktu inspeksi hanya jika bukan depot\n",
        "            if i > 0 and i < len(trip) - 2 and 'ServiceTime' in trip.columns:\n",
        "                total_inspeksi_jam += trip.iloc[i]['ServiceTime']\n",
        "            elif i > 0 and i < len(trip) - 2:\n",
        "                total_inspeksi_jam += 0.5\n",
        "\n",
        "        waktu_jalan_jam = total_jarak / kecepatan_truk_kmh\n",
        "        waktu_total_jam = waktu_jalan_jam + total_inspeksi_jam\n",
        "\n",
        "        jam = int(waktu_total_jam)\n",
        "        menit = int((waktu_total_jam - jam) * 60)\n",
        "        waktu_tempuh_format = f\"{jam} jam {menit} menit\" if jam > 0 else f\"{menit} menit\"\n",
        "\n",
        "        hasil_per_cluster.append({\n",
        "            'Cluster': cluster_id,\n",
        "            kolom_vehicle: v,\n",
        "            'Jumlah Taman': n_taman,\n",
        "            'Total Jarak (km)': round(total_jarak, 2),\n",
        "            'Waktu Tempuh': waktu_tempuh_format\n",
        "        })\n",
        "\n",
        "hasil_df = pd.DataFrame(hasil_per_cluster)\n",
        "print(tabulate(hasil_df, headers='keys', tablefmt='psql', showindex=False))"
      ],
      "metadata": {
        "id": "5NByrBfNylt6"
      },
      "execution_count": null,
      "outputs": []
    }
  ]
}